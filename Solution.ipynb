{
 "cells": [
  {
   "cell_type": "code",
   "execution_count": 70,
   "id": "d1b7f36e-6539-4d0e-b83c-13ace2e15812",
   "metadata": {},
   "outputs": [],
   "source": [
    "import pandas as pd\n",
    "import numpy as np\n",
    "import matplotlib.pyplot as plt\n",
    "import seaborn as sns\n",
    "%matplotlib inline"
   ]
  },
  {
   "cell_type": "code",
   "execution_count": 71,
   "id": "d23c89aa-0fdb-4040-8082-c7e2497a414d",
   "metadata": {},
   "outputs": [
    {
     "data": {
      "text/html": [
       "<div>\n",
       "<style scoped>\n",
       "    .dataframe tbody tr th:only-of-type {\n",
       "        vertical-align: middle;\n",
       "    }\n",
       "\n",
       "    .dataframe tbody tr th {\n",
       "        vertical-align: top;\n",
       "    }\n",
       "\n",
       "    .dataframe thead th {\n",
       "        text-align: right;\n",
       "    }\n",
       "</style>\n",
       "<table border=\"1\" class=\"dataframe\">\n",
       "  <thead>\n",
       "    <tr style=\"text-align: right;\">\n",
       "      <th></th>\n",
       "      <th>input</th>\n",
       "      <th>output</th>\n",
       "    </tr>\n",
       "  </thead>\n",
       "  <tbody>\n",
       "    <tr>\n",
       "      <th>0</th>\n",
       "      <td>-122.740667</td>\n",
       "      <td>-130.572085</td>\n",
       "    </tr>\n",
       "    <tr>\n",
       "      <th>1</th>\n",
       "      <td>-121.531419</td>\n",
       "      <td>-129.938929</td>\n",
       "    </tr>\n",
       "    <tr>\n",
       "      <th>2</th>\n",
       "      <td>-134.917019</td>\n",
       "      <td>-130.141832</td>\n",
       "    </tr>\n",
       "    <tr>\n",
       "      <th>3</th>\n",
       "      <td>-120.605951</td>\n",
       "      <td>-125.760932</td>\n",
       "    </tr>\n",
       "    <tr>\n",
       "      <th>4</th>\n",
       "      <td>-129.894781</td>\n",
       "      <td>-112.785214</td>\n",
       "    </tr>\n",
       "  </tbody>\n",
       "</table>\n",
       "</div>"
      ],
      "text/plain": [
       "        input      output\n",
       "0 -122.740667 -130.572085\n",
       "1 -121.531419 -129.938929\n",
       "2 -134.917019 -130.141832\n",
       "3 -120.605951 -125.760932\n",
       "4 -129.894781 -112.785214"
      ]
     },
     "execution_count": 71,
     "metadata": {},
     "output_type": "execute_result"
    }
   ],
   "source": [
    "data = pd.read_csv(\"dataframe_.csv\")\n",
    "data.head()"
   ]
  },
  {
   "cell_type": "code",
   "execution_count": 72,
   "id": "5ad0ece7-5625-4973-81f5-8dca0ac52352",
   "metadata": {},
   "outputs": [
    {
     "data": {
      "text/html": [
       "<div>\n",
       "<style scoped>\n",
       "    .dataframe tbody tr th:only-of-type {\n",
       "        vertical-align: middle;\n",
       "    }\n",
       "\n",
       "    .dataframe tbody tr th {\n",
       "        vertical-align: top;\n",
       "    }\n",
       "\n",
       "    .dataframe thead th {\n",
       "        text-align: right;\n",
       "    }\n",
       "</style>\n",
       "<table border=\"1\" class=\"dataframe\">\n",
       "  <thead>\n",
       "    <tr style=\"text-align: right;\">\n",
       "      <th></th>\n",
       "      <th>count</th>\n",
       "      <th>mean</th>\n",
       "      <th>std</th>\n",
       "      <th>min</th>\n",
       "      <th>25%</th>\n",
       "      <th>50%</th>\n",
       "      <th>75%</th>\n",
       "      <th>max</th>\n",
       "    </tr>\n",
       "  </thead>\n",
       "  <tbody>\n",
       "    <tr>\n",
       "      <th>input</th>\n",
       "      <td>1696.0</td>\n",
       "      <td>1.159933</td>\n",
       "      <td>79.005970</td>\n",
       "      <td>-134.962839</td>\n",
       "      <td>-63.386506</td>\n",
       "      <td>10.195194</td>\n",
       "      <td>70.264109</td>\n",
       "      <td>134.605775</td>\n",
       "    </tr>\n",
       "    <tr>\n",
       "      <th>output</th>\n",
       "      <td>1696.0</td>\n",
       "      <td>-34.088017</td>\n",
       "      <td>65.771112</td>\n",
       "      <td>-132.422167</td>\n",
       "      <td>-80.026767</td>\n",
       "      <td>-50.470981</td>\n",
       "      <td>-11.000000</td>\n",
       "      <td>134.425495</td>\n",
       "    </tr>\n",
       "  </tbody>\n",
       "</table>\n",
       "</div>"
      ],
      "text/plain": [
       "         count       mean        std         min        25%        50%  \\\n",
       "input   1696.0   1.159933  79.005970 -134.962839 -63.386506  10.195194   \n",
       "output  1696.0 -34.088017  65.771112 -132.422167 -80.026767 -50.470981   \n",
       "\n",
       "              75%         max  \n",
       "input   70.264109  134.605775  \n",
       "output -11.000000  134.425495  "
      ]
     },
     "execution_count": 72,
     "metadata": {},
     "output_type": "execute_result"
    }
   ],
   "source": [
    "data.describe().T"
   ]
  },
  {
   "cell_type": "code",
   "execution_count": 73,
   "id": "367572a1-d176-4b2e-9e60-0f7b7a5efda3",
   "metadata": {},
   "outputs": [
    {
     "data": {
      "text/plain": [
       "(1697, 2)"
      ]
     },
     "execution_count": 73,
     "metadata": {},
     "output_type": "execute_result"
    }
   ],
   "source": [
    "# shape of data\n",
    "data.shape"
   ]
  },
  {
   "cell_type": "code",
   "execution_count": 74,
   "id": "bdc468a1-346d-4b26-99c9-118d7909572a",
   "metadata": {},
   "outputs": [
    {
     "data": {
      "text/plain": [
       "input     1\n",
       "output    1\n",
       "dtype: int64"
      ]
     },
     "execution_count": 74,
     "metadata": {},
     "output_type": "execute_result"
    }
   ],
   "source": [
    "# checking for null values\n",
    "data.isnull().sum()"
   ]
  },
  {
   "cell_type": "markdown",
   "id": "17ca9281-3e46-4517-b7df-3d3d4f37ed4a",
   "metadata": {},
   "source": [
    "Since there are only two null values we can drop these"
   ]
  },
  {
   "cell_type": "code",
   "execution_count": 75,
   "id": "9896c3e9-40e4-4a1c-a95c-3add5d92f973",
   "metadata": {},
   "outputs": [
    {
     "data": {
      "text/plain": [
       "(1696, 2)"
      ]
     },
     "execution_count": 75,
     "metadata": {},
     "output_type": "execute_result"
    }
   ],
   "source": [
    "data.dropna(inplace=True)\n",
    "data.shape # shape of data after dropping"
   ]
  },
  {
   "cell_type": "code",
   "execution_count": 76,
   "id": "270fa9e0-e688-4398-be91-e5e805f20862",
   "metadata": {},
   "outputs": [
    {
     "data": {
      "text/plain": [
       "<AxesSubplot:>"
      ]
     },
     "execution_count": 76,
     "metadata": {},
     "output_type": "execute_result"
    },
    {
     "data": {
      "image/png": "[encoded data removed]",
      "text/plain": [
       "<Figure size 640x480 with 1 Axes>"
      ]
     },
     "metadata": {},
     "output_type": "display_data"
    }
   ],
   "source": [
    "# Checking for Outliers\n",
    "sns.boxplot(data=data, orient='h')"
   ]
  },
  {
   "cell_type": "markdown",
   "id": "21d42f86-a374-4e08-9327-8f3ecb552e8f",
   "metadata": {},
   "source": [
    "Some outliers are present in the target variable"
   ]
  },
  {
   "cell_type": "code",
   "execution_count": 80,
   "id": "770bd442-755a-4422-b01b-0b557c4cdde9",
   "metadata": {},
   "outputs": [
    {
     "name": "stdout",
     "output_type": "stream",
     "text": [
      "input :  0\n",
      "output :  144\n"
     ]
    }
   ],
   "source": [
    "# Count of number of outliers using IQR method\n",
    "def count_outliers(data: pd.DataFrame) -> None:\n",
    "    for col in data.columns:\n",
    "        q1 = data[col].quantile(0.25)\n",
    "        q3 = data[col].quantile(0.75)\n",
    "        iqr = q3 - q1\n",
    "\n",
    "        ll = q1 - 1.5*iqr # lower limit\n",
    "        ul = q3 + 1.5*iqr # upper limit\n",
    "        \n",
    "        cnt = len(data.loc[ (data[col] < ll) | (data[col] > ul), col])\n",
    "        print(col, \": \", cnt)\n",
    "count_outliers(data)"
   ]
  },
  {
   "cell_type": "markdown",
   "id": "ca455ae2-b091-47b6-862d-893baf318a71",
   "metadata": {},
   "source": [
    "We have 144 outliers in output variable\n",
    "We can either drop these outliers as 144 is quite low compared to the total data we have or we can replace these with the mean or median of data"
   ]
  },
  {
   "cell_type": "code",
   "execution_count": 81,
   "id": "7fe37aeb-d458-4fd4-a015-4d4e132632ec",
   "metadata": {},
   "outputs": [
    {
     "data": {
      "text/plain": [
       "(1552, 2)"
      ]
     },
     "execution_count": 81,
     "metadata": {},
     "output_type": "execute_result"
    }
   ],
   "source": [
    "# data after dropping outliers\n",
    "# IQR method\n",
    "\n",
    "data_dropped = data.copy()\n",
    "col = \"output\"\n",
    "q1 = data_dropped[col].quantile(0.25)\n",
    "q3 = data_dropped[col].quantile(0.75)\n",
    "iqr = q3 - q1\n",
    "\n",
    "ll = q1 - 1.5*iqr # lower limit\n",
    "ul = q3 + 1.5*iqr # upper limit\n",
    "\n",
    "data_dropped = data_dropped.loc[ (data_dropped[col] >= ll) & (data_dropped[col] <= ul)]\n",
    "data_dropped.shape"
   ]
  },
  {
   "cell_type": "code",
   "execution_count": 91,
   "id": "7dc3a3d3-27da-468b-bbf2-eb8235ae8bfa",
   "metadata": {},
   "outputs": [
    {
     "data": {
      "text/html": [
       "<div>\n",
       "<style scoped>\n",
       "    .dataframe tbody tr th:only-of-type {\n",
       "        vertical-align: middle;\n",
       "    }\n",
       "\n",
       "    .dataframe tbody tr th {\n",
       "        vertical-align: top;\n",
       "    }\n",
       "\n",
       "    .dataframe thead th {\n",
       "        text-align: right;\n",
       "    }\n",
       "</style>\n",
       "<table border=\"1\" class=\"dataframe\">\n",
       "  <thead>\n",
       "    <tr style=\"text-align: right;\">\n",
       "      <th></th>\n",
       "      <th>input</th>\n",
       "      <th>output</th>\n",
       "    </tr>\n",
       "  </thead>\n",
       "  <tbody>\n",
       "    <tr>\n",
       "      <th>0</th>\n",
       "      <td>-122.740667</td>\n",
       "      <td>-130.572085</td>\n",
       "    </tr>\n",
       "    <tr>\n",
       "      <th>1</th>\n",
       "      <td>-121.531419</td>\n",
       "      <td>-129.938929</td>\n",
       "    </tr>\n",
       "    <tr>\n",
       "      <th>2</th>\n",
       "      <td>-134.917019</td>\n",
       "      <td>-130.141832</td>\n",
       "    </tr>\n",
       "    <tr>\n",
       "      <th>3</th>\n",
       "      <td>-120.605951</td>\n",
       "      <td>-125.760932</td>\n",
       "    </tr>\n",
       "    <tr>\n",
       "      <th>4</th>\n",
       "      <td>-129.894781</td>\n",
       "      <td>-112.785214</td>\n",
       "    </tr>\n",
       "  </tbody>\n",
       "</table>\n",
       "</div>"
      ],
      "text/plain": [
       "        input      output\n",
       "0 -122.740667 -130.572085\n",
       "1 -121.531419 -129.938929\n",
       "2 -134.917019 -130.141832\n",
       "3 -120.605951 -125.760932\n",
       "4 -129.894781 -112.785214"
      ]
     },
     "execution_count": 91,
     "metadata": {},
     "output_type": "execute_result"
    }
   ],
   "source": [
    "# data after replacing outliers with median\n",
    "data_median = data.copy()\n",
    "col = \"output\"\n",
    "q1 = data_median[col].quantile(0.25)\n",
    "q3 = data_median[col].quantile(0.75)\n",
    "iqr = q3 - q1\n",
    "\n",
    "ll = q1 - 1.5*iqr # lower limit\n",
    "ul = q3 + 1.5*iqr # upper limit\n",
    "data_median.loc[ (data_median[col] < ll) | (data_median[col] > ul), col] = data[col].median()\n",
    "data_median.head()"
   ]
  },
  {
   "cell_type": "code",
   "execution_count": 92,
   "id": "ef062c14-04b2-4a1b-bc7c-f1260b02407d",
   "metadata": {},
   "outputs": [
    {
     "data": {
      "text/html": [
       "<div>\n",
       "<style scoped>\n",
       "    .dataframe tbody tr th:only-of-type {\n",
       "        vertical-align: middle;\n",
       "    }\n",
       "\n",
       "    .dataframe tbody tr th {\n",
       "        vertical-align: top;\n",
       "    }\n",
       "\n",
       "    .dataframe thead th {\n",
       "        text-align: right;\n",
       "    }\n",
       "</style>\n",
       "<table border=\"1\" class=\"dataframe\">\n",
       "  <thead>\n",
       "    <tr style=\"text-align: right;\">\n",
       "      <th></th>\n",
       "      <th>input</th>\n",
       "      <th>output</th>\n",
       "    </tr>\n",
       "  </thead>\n",
       "  <tbody>\n",
       "    <tr>\n",
       "      <th>0</th>\n",
       "      <td>-122.740667</td>\n",
       "      <td>-130.572085</td>\n",
       "    </tr>\n",
       "    <tr>\n",
       "      <th>1</th>\n",
       "      <td>-121.531419</td>\n",
       "      <td>-129.938929</td>\n",
       "    </tr>\n",
       "    <tr>\n",
       "      <th>2</th>\n",
       "      <td>-134.917019</td>\n",
       "      <td>-130.141832</td>\n",
       "    </tr>\n",
       "    <tr>\n",
       "      <th>3</th>\n",
       "      <td>-120.605951</td>\n",
       "      <td>-125.760932</td>\n",
       "    </tr>\n",
       "    <tr>\n",
       "      <th>4</th>\n",
       "      <td>-129.894781</td>\n",
       "      <td>-112.785214</td>\n",
       "    </tr>\n",
       "  </tbody>\n",
       "</table>\n",
       "</div>"
      ],
      "text/plain": [
       "        input      output\n",
       "0 -122.740667 -130.572085\n",
       "1 -121.531419 -129.938929\n",
       "2 -134.917019 -130.141832\n",
       "3 -120.605951 -125.760932\n",
       "4 -129.894781 -112.785214"
      ]
     },
     "execution_count": 92,
     "metadata": {},
     "output_type": "execute_result"
    }
   ],
   "source": [
    "# data after replacing outliers with mean\n",
    "data_mean = data.copy()\n",
    "col = \"output\"\n",
    "q1 = data_mean[col].quantile(0.25)\n",
    "q3 = data_mean[col].quantile(0.75)\n",
    "iqr = q3 - q1\n",
    "\n",
    "ll = q1 - 1.5*iqr # lower limit\n",
    "ul = q3 + 1.5*iqr # upper limit\n",
    "\n",
    "data_mean.loc[ (data_mean[col] < ll) | (data_mean[col] > ul), col] = data_mean[col].mean()\n",
    "data_mean.head()"
   ]
  },
  {
   "cell_type": "code",
   "execution_count": 107,
   "id": "29eb78e9-8813-4cca-a471-31d207042ed4",
   "metadata": {},
   "outputs": [
    {
     "data": {
      "text/plain": [
       "Text(0.5, 1.0, 'Data after replacing with mean')"
      ]
     },
     "execution_count": 107,
     "metadata": {},
     "output_type": "execute_result"
    },
    {
     "data": {
      "image/png": "[encoded data removed]",
      "text/plain": [
       "<Figure size 2000x600 with 4 Axes>"
      ]
     },
     "metadata": {},
     "output_type": "display_data"
    }
   ],
   "source": [
    "fig, ax = plt.subplots(1, 4, figsize=(20, 6))\n",
    "sns.boxplot(data=data, orient='h', ax=ax[0])\n",
    "sns.boxplot(data=data_dropped, orient='h', ax=ax[1])\n",
    "sns.boxplot(data=data_median, orient='h', ax=ax[2])\n",
    "sns.boxplot(data=data_mean, orient='h', ax=ax[3])\n",
    "\n",
    "ax[0].set_title(\"Original Data\")\n",
    "ax[1].set_title(\"Data after dropping\")\n",
    "ax[2].set_title(\"Data after replacing with median\")\n",
    "ax[3].set_title(\"Data after replacing with mean\")"
   ]
  },
  {
   "cell_type": "code",
   "execution_count": 94,
   "id": "173018dd-a1fa-4b5c-9923-0a3156b44bb4",
   "metadata": {},
   "outputs": [
    {
     "data": {
      "text/html": [
       "<div>\n",
       "<style scoped>\n",
       "    .dataframe tbody tr th:only-of-type {\n",
       "        vertical-align: middle;\n",
       "    }\n",
       "\n",
       "    .dataframe tbody tr th {\n",
       "        vertical-align: top;\n",
       "    }\n",
       "\n",
       "    .dataframe thead th {\n",
       "        text-align: right;\n",
       "    }\n",
       "</style>\n",
       "<table border=\"1\" class=\"dataframe\">\n",
       "  <thead>\n",
       "    <tr style=\"text-align: right;\">\n",
       "      <th></th>\n",
       "      <th>input</th>\n",
       "      <th>output</th>\n",
       "    </tr>\n",
       "  </thead>\n",
       "  <tbody>\n",
       "    <tr>\n",
       "      <th>0</th>\n",
       "      <td>-122.740667</td>\n",
       "      <td>-130.572085</td>\n",
       "    </tr>\n",
       "    <tr>\n",
       "      <th>1</th>\n",
       "      <td>-121.531419</td>\n",
       "      <td>-129.938929</td>\n",
       "    </tr>\n",
       "    <tr>\n",
       "      <th>2</th>\n",
       "      <td>-134.917019</td>\n",
       "      <td>-130.141832</td>\n",
       "    </tr>\n",
       "    <tr>\n",
       "      <th>3</th>\n",
       "      <td>-120.605951</td>\n",
       "      <td>-125.760932</td>\n",
       "    </tr>\n",
       "    <tr>\n",
       "      <th>4</th>\n",
       "      <td>-129.894781</td>\n",
       "      <td>-112.785214</td>\n",
       "    </tr>\n",
       "  </tbody>\n",
       "</table>\n",
       "</div>"
      ],
      "text/plain": [
       "        input      output\n",
       "0 -122.740667 -130.572085\n",
       "1 -121.531419 -129.938929\n",
       "2 -134.917019 -130.141832\n",
       "3 -120.605951 -125.760932\n",
       "4 -129.894781 -112.785214"
      ]
     },
     "execution_count": 94,
     "metadata": {},
     "output_type": "execute_result"
    }
   ],
   "source": [
    "data.head()"
   ]
  },
  {
   "cell_type": "code",
   "execution_count": null,
   "id": "99d6c644-e50d-42ef-b49b-f0ddcb8843dc",
   "metadata": {},
   "outputs": [],
   "source": []
  }
 ],
 "metadata": {
  "kernelspec": {
   "display_name": "Python 3 (ipykernel)",
   "language": "python",
   "name": "python3"
  },
  "language_info": {
   "codemirror_mode": {
    "name": "ipython",
    "version": 3
   },
   "file_extension": ".py",
   "mimetype": "text/x-python",
   "name": "python",
   "nbconvert_exporter": "python",
   "pygments_lexer": "ipython3",
   "version": "3.9.13"
  }
 },
 "nbformat": 4,
 "nbformat_minor": 5
}
